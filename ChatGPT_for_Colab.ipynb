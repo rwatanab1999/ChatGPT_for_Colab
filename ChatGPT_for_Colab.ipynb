{
  "nbformat": 4,
  "nbformat_minor": 0,
  "metadata": {
    "colab": {
      "provenance": [],
      "include_colab_link": true
    },
    "kernelspec": {
      "name": "python3",
      "display_name": "Python 3"
    },
    "language_info": {
      "name": "python"
    }
  },
  "cells": [
    {
      "cell_type": "markdown",
      "metadata": {
        "id": "view-in-github",
        "colab_type": "text"
      },
      "source": [
        "<a href=\"https://colab.research.google.com/github/rwatanab1999/ChatGPT_for_Colab/blob/main/ChatGPT_for_Colab.ipynb\" target=\"_parent\"><img src=\"https://colab.research.google.com/assets/colab-badge.svg\" alt=\"Open In Colab\"/></a>"
      ]
    },
    {
      "cell_type": "code",
      "execution_count": null,
      "metadata": {
        "colab": {
          "base_uri": "https://localhost:8080/"
        },
        "id": "tNq8V9lG01Hh",
        "outputId": "70c19172-c328-4afe-e46f-f3a982317256"
      },
      "outputs": [
        {
          "output_type": "stream",
          "name": "stdout",
          "text": [
            "Looking in indexes: https://pypi.org/simple, https://us-python.pkg.dev/colab-wheels/public/simple/\n",
            "Requirement already satisfied: openai in /usr/local/lib/python3.8/dist-packages (0.25.0)\n",
            "Requirement already satisfied: numpy in /usr/local/lib/python3.8/dist-packages (from openai) (1.21.6)\n",
            "Requirement already satisfied: typing-extensions in /usr/local/lib/python3.8/dist-packages (from openai) (4.4.0)\n",
            "Requirement already satisfied: pandas-stubs>=1.1.0.11 in /usr/local/lib/python3.8/dist-packages (from openai) (1.5.2.221124)\n",
            "Requirement already satisfied: openpyxl>=3.0.7 in /usr/local/lib/python3.8/dist-packages (from openai) (3.0.10)\n",
            "Requirement already satisfied: pandas>=1.2.3 in /usr/local/lib/python3.8/dist-packages (from openai) (1.3.5)\n",
            "Requirement already satisfied: requests>=2.20 in /usr/local/lib/python3.8/dist-packages (from openai) (2.23.0)\n",
            "Requirement already satisfied: tqdm in /usr/local/lib/python3.8/dist-packages (from openai) (4.64.1)\n",
            "Requirement already satisfied: et-xmlfile in /usr/local/lib/python3.8/dist-packages (from openpyxl>=3.0.7->openai) (1.1.0)\n",
            "Requirement already satisfied: python-dateutil>=2.7.3 in /usr/local/lib/python3.8/dist-packages (from pandas>=1.2.3->openai) (2.8.2)\n",
            "Requirement already satisfied: pytz>=2017.3 in /usr/local/lib/python3.8/dist-packages (from pandas>=1.2.3->openai) (2022.6)\n",
            "Requirement already satisfied: types-pytz>=2022.1.1 in /usr/local/lib/python3.8/dist-packages (from pandas-stubs>=1.1.0.11->openai) (2022.6.0.1)\n",
            "Requirement already satisfied: six>=1.5 in /usr/local/lib/python3.8/dist-packages (from python-dateutil>=2.7.3->pandas>=1.2.3->openai) (1.15.0)\n",
            "Requirement already satisfied: urllib3!=1.25.0,!=1.25.1,<1.26,>=1.21.1 in /usr/local/lib/python3.8/dist-packages (from requests>=2.20->openai) (1.24.3)\n",
            "Requirement already satisfied: certifi>=2017.4.17 in /usr/local/lib/python3.8/dist-packages (from requests>=2.20->openai) (2022.9.24)\n",
            "Requirement already satisfied: chardet<4,>=3.0.2 in /usr/local/lib/python3.8/dist-packages (from requests>=2.20->openai) (3.0.4)\n",
            "Requirement already satisfied: idna<3,>=2.5 in /usr/local/lib/python3.8/dist-packages (from requests>=2.20->openai) (2.10)\n",
            "\n",
            "\n",
            "1. 冷房を入れて部屋を冷やす\n",
            "2. 運動をする\n",
            "3. 明るい部屋で寝る\n",
            "4. 食事を抜かない\n",
            "5. 日光浴をする\n",
            "6. 静かな環境で寝る\n",
            "7. 昼間は外に出て活動する\n",
            "8. カフェインを摂取する\n",
            "9. ストレッチをする\n",
            "10. 定期的な睡眠スケジュールを守る\n"
          ]
        }
      ],
      "source": [
        "# Install the openai package\n",
        "!pip install openai\n",
        "\n",
        "# Import the openai module and set up the API key\n",
        "import openai\n",
        "openai.api_key = \"{*********************************}\" # Create API keys https://beta.openai.com/account/api-keys\n",
        "\n",
        "# Use chatgpt to generate text\n",
        "response = openai.Completion.create(\n",
        "  engine=\"text-davinci-003\",\n",
        "  prompt=\"眠気を覚ますのに良い方法を教えてください\",\n",
        "  max_tokens=1024,\n",
        "  n=1,\n",
        "  temperature=0.5,\n",
        ")\n",
        "\n",
        "# Print the generated text\n",
        "print(response[\"choices\"][0][\"text\"])"
      ]
    },
    {
      "cell_type": "code",
      "source": [
        "# Use chatgpt to generate text\n",
        "response = openai.Completion.create(\n",
        "  engine=\"text-davinci-003\",\n",
        "  prompt=\"長時間運転をし疲れている私に，労いの言葉をください．\",\n",
        "  max_tokens=1024,\n",
        "  n=1,\n",
        "  temperature=0.5,\n",
        ")\n",
        "\n",
        "# Print the generated text\n",
        "print(response[\"choices\"][0][\"text\"])"
      ],
      "metadata": {
        "colab": {
          "base_uri": "https://localhost:8080/"
        },
        "id": "2N60LMOIOJAs",
        "outputId": "a591d3cd-645c-4396-843a-05b3e4a486bf"
      },
      "execution_count": null,
      "outputs": [
        {
          "output_type": "stream",
          "name": "stdout",
          "text": [
            "\n",
            "\n",
            "お疲れ様でした。あなたの努力と根気が実りますように！\n"
          ]
        }
      ]
    },
    {
      "cell_type": "code",
      "source": [
        "# Use chatgpt to generate text\n",
        "response = openai.Completion.create(\n",
        "  engine=\"text-davinci-003\",\n",
        "  prompt=\"自覚はないが疲労を指摘された．休んだ方がいいと思いますか？\",\n",
        "  max_tokens=1024,\n",
        "  n=1,\n",
        "  temperature=0.5,\n",
        ")\n",
        "\n",
        "# Print the generated text\n",
        "print(response[\"choices\"][0][\"text\"])"
      ],
      "metadata": {
        "colab": {
          "base_uri": "https://localhost:8080/"
        },
        "id": "MNloW5ZyOXHu",
        "outputId": "53092fd9-afeb-48ff-ba89-4410c23ac54b"
      },
      "execution_count": null,
      "outputs": [
        {
          "output_type": "stream",
          "name": "stdout",
          "text": [
            "\n",
            "\n",
            "はい、休んだ方がいいと思います。疲労は、体と心の状態を悪くするだけでなく、体調不良を引き起こす可能性もあるので、休息をとることが重要です。また、休息をとることで、疲労を回復し、仕事や日常生活にも役立つことができます。\n"
          ]
        }
      ]
    }
  ]
}